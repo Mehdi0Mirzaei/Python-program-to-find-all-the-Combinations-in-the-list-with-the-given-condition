{
 "cells": [
  {
   "cell_type": "code",
   "execution_count": 8,
   "id": "7662b8a9",
   "metadata": {},
   "outputs": [
    {
     "name": "stdout",
     "output_type": "stream",
     "text": [
      "(2, 3)\n",
      "(2, 1)\n",
      "(2, 6)\n",
      "(2, 4)\n",
      "(2, 7)\n",
      "(3, 1)\n",
      "(3, 6)\n",
      "(3, 4)\n",
      "(3, 7)\n",
      "(1, 6)\n",
      "(1, 4)\n",
      "(1, 7)\n",
      "(6, 4)\n",
      "(6, 7)\n",
      "(4, 7)\n"
     ]
    }
   ],
   "source": [
    "def combinations(iterable, r):\n",
    "    t = tuple(iterable)\n",
    "    n = len(t)\n",
    "    if r > n:\n",
    "        return\n",
    "    indx = list(range(r))\n",
    "    yield tuple(t[i] for i in indx)\n",
    "    while True:\n",
    "        for i in reversed(range(r)):\n",
    "            if indx[i] != i + n - r:\n",
    "                break\n",
    "        else:\n",
    "            return\n",
    "        indx[i] += 1\n",
    "        for j in range(i+1, r):\n",
    "            indx[j] = indx[j-1] + 1\n",
    "        yield tuple(t[i] for i in indx)\n",
    "x = [2, 3, 1, 6, 4, 7]\n",
    "for i in combinations(x, 2):\n",
    "    print(i)"
   ]
  },
  {
   "cell_type": "code",
   "execution_count": 4,
   "id": "04684138",
   "metadata": {},
   "outputs": [
    {
     "name": "stdout",
     "output_type": "stream",
     "text": [
      "Combination 1 :  ('MM', [5, 4])\n",
      "Combination 2 :  ('MM', 'is')\n",
      "Combination 3 :  ('MM', ['best', 'good', 'better', 'average'])\n",
      "Combination 4 :  ([5, 4], 'is')\n",
      "Combination 5 :  ([5, 4], ['best', 'good', 'better', 'average'])\n",
      "Combination 6 :  ('is', ['best', 'good', 'better', 'average'])\n"
     ]
    }
   ],
   "source": [
    "from itertools import combinations\n",
    "# initializing list\n",
    "test_list = [\"MM\", [5, 4], \"is\",\n",
    "            [\"best\", \"good\", \"better\", \"average\"]]\n",
    "idx=0\n",
    "temp = combinations(test_list, 2)\n",
    "for i in list(temp):\n",
    "    idx = idx+1\n",
    "    print (\"Combination\", idx, \": \", i)"
   ]
  },
  {
   "cell_type": "code",
   "execution_count": 5,
   "id": "d93b6c20",
   "metadata": {},
   "outputs": [
    {
     "name": "stdout",
     "output_type": "stream",
     "text": [
      "Combination 1 :  ('MM', 'MM')\n",
      "Combination 2 :  ('MM', [5, 4])\n",
      "Combination 3 :  ('MM', 'is')\n",
      "Combination 4 :  ('MM', ['best', 'good', 'better', 'average'])\n",
      "Combination 5 :  ([5, 4], [5, 4])\n",
      "Combination 6 :  ([5, 4], 'is')\n",
      "Combination 7 :  ([5, 4], ['best', 'good', 'better', 'average'])\n",
      "Combination 8 :  ('is', 'is')\n",
      "Combination 9 :  ('is', ['best', 'good', 'better', 'average'])\n",
      "Combination 10 :  (['best', 'good', 'better', 'average'], ['best', 'good', 'better', 'average'])\n"
     ]
    }
   ],
   "source": [
    "from itertools import combinations_with_replacement\n",
    " \n",
    "# initializing list\n",
    "test_list = [\"MM\", [5, 4], \"is\",\n",
    "            [\"best\", \"good\", \"better\", \"average\"]]\n",
    "idx=0\n",
    "temp = combinations_with_replacement(test_list, 2)\n",
    "for i in list(temp):\n",
    "    idx = idx+1\n",
    "    print (\"Combination\", idx, \": \", i)"
   ]
  },
  {
   "cell_type": "code",
   "execution_count": null,
   "id": "93128ce4",
   "metadata": {},
   "outputs": [],
   "source": []
  }
 ],
 "metadata": {
  "kernelspec": {
   "display_name": "Python 3 (ipykernel)",
   "language": "python",
   "name": "python3"
  },
  "language_info": {
   "codemirror_mode": {
    "name": "ipython",
    "version": 3
   },
   "file_extension": ".py",
   "mimetype": "text/x-python",
   "name": "python",
   "nbconvert_exporter": "python",
   "pygments_lexer": "ipython3",
   "version": "3.9.13"
  }
 },
 "nbformat": 4,
 "nbformat_minor": 5
}
